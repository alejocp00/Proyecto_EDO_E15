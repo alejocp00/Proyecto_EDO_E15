{
 "cells": [
  {
   "cell_type": "markdown",
   "metadata": {},
   "source": [
    "# Proyecto EDO Equipo 15"
   ]
  },
  {
   "cell_type": "markdown",
   "metadata": {},
   "source": [
    "## Integrantes"
   ]
  },
  {
   "cell_type": "markdown",
   "metadata": {},
   "source": [
    "- Alejandro Camacho Pérez       C-212\n",
    "- Carlos Arturo Pérez Cabrera   C-212\n",
    "- Diana Laura Pérez Trujillo    C-212\n",
    "- David Sánchez Iglesias        C-212"
   ]
  },
  {
   "cell_type": "markdown",
   "metadata": {},
   "source": [
    "## Ejercicios\n",
    "\n",
    "Todos los ejercicios son utilizando el libro de Edwards"
   ]
  },
  {
   "cell_type": "markdown",
   "metadata": {},
   "source": [
    "### Métodos auxiliares y variables globales"
   ]
  },
  {
   "cell_type": "code",
   "execution_count": null,
   "metadata": {},
   "outputs": [
    {
     "ename": "",
     "evalue": "",
     "output_type": "error",
     "traceback": [
      "\u001b[1;31mRunning cells with 'Python 3.10.6 64-bit' requires ipykernel package.\n",
      "\u001b[1;31mRun the following command to install 'ipykernel' into the Python environment. \n",
      "\u001b[1;31mCommand: '/bin/python3 -m pip install ipykernel -U --user --force-reinstall'"
     ]
    }
   ],
   "source": [
    "from cairo import Region\n",
    "\n",
    "\n",
    "EPSILON = 1e-8\n",
    "\n",
    "\n",
    "def Great_Than(a, b):\n",
    "    return a - b > 0\n",
    "\n",
    "\n",
    "def Less_Than(a, b):\n",
    "    return a - b < 0\n",
    "\n",
    "\n",
    "def Equal_To(a, b):\n",
    "    return abs(a - b) < EPSILON\n",
    "\n",
    "\n",
    "def Euler_Method(function, x,y,max,h):\n",
    "    coordinates = ([x], [y])\n",
    "\n",
    "    i = 0\n",
    "    while(Less_Than(x, max) or Equal_To(x, max)):\n",
    "\n",
    "\n",
    "        # Update x value\n",
    "        x = x+h\n",
    "\n",
    "        # Update y value\n",
    "        y = y+h*function(x,y)\n",
    "\n",
    "        # Save values\n",
    "        coordinates[0].append(x)\n",
    "        coordinates[1].append(y)\n",
    "\n",
    "    return coordinates\n",
    "\n",
    "def Euler_Method_Improved(function, x, y, max, h):\n",
    "    coordinates = ([x], [y])\n",
    "\n",
    "    i = 0\n",
    "    while(Less_Than(x, max) or Equal_To(x, max)):\n",
    "\n",
    "        # Calculate first slope\n",
    "        k1 = function(x, y)\n",
    "\n",
    "        u = y+h*k1\n",
    "\n",
    "        # Update x value\n",
    "        x = x+h\n",
    "\n",
    "        # Calculate second slope\n",
    "        k2 = function(x, u)\n",
    "\n",
    "        # Update y value\n",
    "        y = y+h*(1/2)*(k1+k2)\n",
    "\n",
    "        # Save values\n",
    "        coordinates[0].append(x)\n",
    "        coordinates[1].append(y)\n",
    "\n",
    "    return coordinates"
   ]
  },
  {
   "cell_type": "markdown",
   "metadata": {},
   "source": [
    "### Ejercicio 24, página 132\n",
    "\n",
    "Para el problema se requiere una computadora con\n",
    "impresora. En este problema de valor inicial utilice el método de Euler mejorado con tamaños de paso h = 0.1, 0.02,\n",
    "0.004 y 0.0008 para aproximar con 5 cifras decimales el valor\n",
    "de la solución en 10 puntos igualmente espaciados del intervalo dado. Imprima los resultados en forma tabular con los encabezados apropiados para facilitar la comparación del efecto\n",
    "de variar el tamaño de paso h. Las primas representan derivadas con respecto a x.\n",
    "\n",
    " - $y'= \\frac{x}{1+y²},y(-1)=1;-1 \\leq x \\leq 1$"
   ]
  },
  {
   "cell_type": "code",
   "execution_count": null,
   "metadata": {},
   "outputs": [],
   "source": [
    "from matplotlib import pyplot as pl\n",
    "\n",
    "def function(x,y):\n",
    "    return x+(1/5)*y\n",
    "\n",
    "coordinates = Euler_Method(function=function,x=0,y=-3,max=5,h=1)\n",
    "\n",
    "pl.plot(coordinates[0],coordinates[1])\n",
    "pl.show()"
   ]
  },
  {
   "cell_type": "markdown",
   "metadata": {},
   "source": [
    "### Ejercicio 26, página 132\n",
    "\n",
    "Suponga que\n",
    "en un pequeño bosque la población de venados P(t) inicialmente es de 25 individuos y satisface la ecuación\n",
    "logística  \n",
    "\n",
    "- $\\frac{dP}{dt} = 0.0225P − 0.0003P²$  \n",
    "\n",
    "(con t en meses). Utilice el método de Euler mejorado con\n",
    "una calculadora programable o una computadora con el fin\n",
    "de aproximar la solución para 10 años, primero con un tamaño de paso h = 1 y después con h = 0.5, redondeando\n",
    "los valores aproximados de P a 3 cifras decimales, ¿qué\n",
    "porcentaje de la población límite de 75 venados se obtiene\n",
    "después de 5 años? ¿Después de 10 años?\n"
   ]
  },
  {
   "cell_type": "code",
   "execution_count": null,
   "metadata": {},
   "outputs": [],
   "source": []
  },
  {
   "cell_type": "markdown",
   "metadata": {},
   "source": [
    "### Ejercicio 24, Página 142\n",
    "\n",
    "Suponga\n",
    "que en un pequeño bosque una población de venados P(t),\n",
    "inicialmente de 25 individuos, satisface la ecuación logística\n",
    "\n",
    "- $\\frac{dP}{dt} = 0.0225P − 0.0003P²$  \n",
    "\n",
    "(con t en meses). Aplique el método de Runge-Kutta en\n",
    "una calculadora programable o en una computadora a fin\n",
    "de aproximar la solución para 10 años, primero con un tamaño de paso de h = 6 y luego con h = 3, redondeando\n",
    "los valores aproximados de P a 4 cifras decimales. ¿Qué\n",
    "porcentaje de la población límite de 75 venados se alcanza después de 5 años? ¿Después de 10 años?\n"
   ]
  },
  {
   "cell_type": "code",
   "execution_count": null,
   "metadata": {},
   "outputs": [],
   "source": []
  }
 ],
 "metadata": {
  "kernelspec": {
   "display_name": "Python 3.10.6 64-bit",
   "language": "python",
   "name": "python3"
  },
  "language_info": {
   "codemirror_mode": {
    "name": "ipython",
    "version": 3
   },
   "file_extension": ".py",
   "mimetype": "text/x-python",
   "name": "python",
   "nbconvert_exporter": "python",
   "pygments_lexer": "ipython3",
   "version": "3.10.6"
  },
  "orig_nbformat": 4,
  "vscode": {
   "interpreter": {
    "hash": "916dbcbb3f70747c44a77c7bcd40155683ae19c65e1c03b4aa3499c5328201f1"
   }
  }
 },
 "nbformat": 4,
 "nbformat_minor": 2
}
